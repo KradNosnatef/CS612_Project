{
 "cells": [
  {
   "cell_type": "code",
   "execution_count": 1,
   "metadata": {},
   "outputs": [
    {
     "name": "stderr",
     "output_type": "stream",
     "text": [
      "2023-09-26 07:04:00.993537: I tensorflow/stream_executor/platform/default/dso_loader.cc:49] Successfully opened dynamic library libcudart.so.11.0\n"
     ]
    }
   ],
   "source": [
    "import os\n",
    "import sys\n",
    "module_path=os.path.abspath(\"../FTrojan\")\n",
    "sys.path.append(module_path)\n",
    "\n",
    "import numpy as np\n",
    "import torch\n",
    "from data import get_data, poison\n",
    "from torch.utils.data import DataLoader, TensorDataset\n",
    "import torch.optim\n",
    "from data import impose\n",
    "\n",
    "device = torch.device(\"cuda:0\" if torch.cuda.is_available() else \"cpu\")\n",
    "\n",
    "import torch.nn as nn"
   ]
  },
  {
   "cell_type": "code",
   "execution_count": 2,
   "metadata": {},
   "outputs": [
    {
     "data": {
      "text/plain": [
       "True"
      ]
     },
     "execution_count": 2,
     "metadata": {},
     "output_type": "execute_result"
    }
   ],
   "source": [
    "torch.cuda.is_available()"
   ]
  },
  {
   "cell_type": "code",
   "execution_count": 3,
   "metadata": {},
   "outputs": [],
   "source": [
    "class cifar_model(nn.Module):\n",
    "    def __init__(self):\n",
    "        super().__init__()\n",
    "        self.main = nn.Sequential(\n",
    "            nn.Conv2d(3, 32, (3, 3), padding=1),        # 32 x 32 x 32\n",
    "            nn.ELU(),\n",
    "            nn.BatchNorm2d(32),\n",
    "\n",
    "            nn.Conv2d(32, 32, (3, 3), padding=1),       # 32 x 32 x 32\n",
    "            nn.ELU(),\n",
    "            nn.BatchNorm2d(32),\n",
    "            nn.MaxPool2d(kernel_size=(2, 2)),           # 32 x 16 x 16\n",
    "            nn.Dropout2d(0.2),\n",
    "\n",
    "            nn.Conv2d(32, 64, (3, 3), padding=1),       # 64 x 16 x 16\n",
    "            nn.ELU(),\n",
    "            nn.BatchNorm2d(64),\n",
    "            nn.Conv2d(64, 64, (3, 3), padding=1),       # 64 x 16 x 16\n",
    "            nn.ELU(),\n",
    "            nn.BatchNorm2d(64),\n",
    "            nn.MaxPool2d(kernel_size=(2, 2)),           # 64 x 8 x 8\n",
    "            nn.Dropout2d(0.3),\n",
    "\n",
    "            nn.Conv2d(64, 128, (3, 3), padding=1),      # 128 x 8 x 8\n",
    "            nn.ELU(),\n",
    "            nn.BatchNorm2d(128),\n",
    "            nn.Conv2d(128, 128, (3, 3), padding=1),     # 128 x 8 x 8\n",
    "            nn.ELU(),\n",
    "            nn.BatchNorm2d(128),\n",
    "            nn.MaxPool2d(kernel_size=(2, 2)),            # 128 x 4 x 4\n",
    "            nn.Dropout2d(0.4),\n",
    "            nn.Flatten(),\n",
    "            nn.Linear(2048, 10)\n",
    "        )\n",
    "\n",
    "    def forward(self, x_train):\n",
    "        return self.main(x_train)\n",
    "\n"
   ]
  },
  {
   "cell_type": "code",
   "execution_count": 4,
   "metadata": {},
   "outputs": [],
   "source": [
    "def train_cifar10():\n",
    "    param = {\n",
    "        \"dataset\": \"CIFAR10\",             # GTSRB, cifar10, MNIST, PubFig, ImageNet16\n",
    "        \"target_label\": 8,              # target label\n",
    "        \"poisoning_rate\": 0.02,         # ratio of poisoned samples\n",
    "        \"label_dim\": 10,\n",
    "        \"channel_list\": [1, 2],               # [0,1,2] means YUV channels, [1,2] means UV channels\n",
    "        \"magnitude\": 20,\n",
    "        \"YUV\": True,\n",
    "        \"clean_label\": False,\n",
    "        \"window_size\": 32,\n",
    "        \"pos_list\": [(31, 31), (15, 15)],\n",
    "    }\n",
    "\n",
    "    x_train, y_train, x_test, y_test = get_data(param)\n",
    "    #print(x_train)\n",
    "    x_train = poison(x_train, y_train, param)\n",
    "    x_test_pos = impose(x_test.copy(), y_test.copy(), param)\n",
    "    y_test_pos = np.array([param[\"target_label\"]] * x_test_pos.shape[0], dtype=np.long)\n",
    "    x_train, x_test, x_test_pos = np.transpose(x_train, (0, 3, 1, 2)), np.transpose(x_test, (0, 3, 1, 2)), np.transpose(x_test_pos, (0, 3, 1, 2))\n",
    "\n",
    "    x_train, y_train = torch.tensor(x_train, dtype=torch.float), torch.tensor(y_train, dtype=torch.long).view((-1, ))\n",
    "    x_test, y_test = torch.tensor(x_test, dtype=torch.float), torch.tensor(y_test, dtype=torch.long).view((-1, ))\n",
    "    x_test_pos, y_test_pos = torch.tensor(x_test_pos, dtype=torch.float), torch.tensor(y_test_pos, dtype=torch.long).view((-1, ))\n",
    "\n",
    "\n",
    "    train_loader = DataLoader(TensorDataset(x_train, y_train), batch_size=64, shuffle=True)\n",
    "    test_loader = DataLoader(TensorDataset(x_test, y_test), batch_size=64, shuffle=False)\n",
    "    test_pos_loader = DataLoader(TensorDataset(x_test_pos, y_test_pos), batch_size=64, shuffle=False)\n",
    "\n",
    "\n",
    "    model = cifar_model().to(device)\n",
    "    criterion = nn.CrossEntropyLoss()\n",
    "    optimizer = torch.optim.Adam(model.parameters(), lr=0.0005)\n",
    "\n",
    "    max_accuracy = 0.0\n",
    "    filepath = \"model/cifar10.pth\"\n",
    "    for epoch in range(30):\n",
    "        model.train()\n",
    "        total_loss = torch.tensor(0.0).to(device)\n",
    "        correct = torch.tensor(0).to(device)\n",
    "        total = torch.tensor(0).to(device)\n",
    "        batch_idx = torch.tensor(0).to(device)\n",
    "        for (batch_x, batch_y) in train_loader:\n",
    "            batch_x, batch_y = batch_x.to(device), batch_y.to(device)\n",
    "            optimizer.zero_grad()\n",
    "            outputs = model(batch_x)\n",
    "            loss = criterion(outputs, batch_y)\n",
    "            loss.backward()\n",
    "            optimizer.step()\n",
    "\n",
    "            _, predicted = torch.max(outputs.data, 1)\n",
    "            total += batch_y.size(0)\n",
    "            correct += (predicted == batch_y).sum().item()\n",
    "            total_loss += loss\n",
    "            batch_idx += 1\n",
    "        print(\"Training: Epoch: {}, Loss: {:.4}, Accuracy: {:.4}\".format(epoch, total_loss/batch_idx, 100 * correct/total))\n",
    "\n",
    "\n",
    "        total_loss = 0.0\n",
    "        correct = 0.0\n",
    "        total = 0.0\n",
    "        batch_idx = 0\n",
    "        model.eval()\n",
    "        with torch.no_grad():\n",
    "            for (batch_x, batch_y) in test_loader:\n",
    "                batch_x, batch_y = batch_x.to(device), batch_y.to(device)\n",
    "                outputs = model(batch_x)\n",
    "                loss = criterion(outputs, batch_y)\n",
    "\n",
    "                _, predicted = torch.max(outputs.data, 1)\n",
    "                total += batch_y.size(0)\n",
    "                correct += (predicted == batch_y).sum().item()\n",
    "                total_loss += loss\n",
    "                batch_idx += 1\n",
    "            print(\"Benign Accuracy Evaluation - Epoch: {}, Loss: {:.4}, Accuracy: {:.4}\".format(epoch, total_loss / batch_idx, 100 * correct / total))\n",
    "        if 100 * correct / total > max_accuracy:\n",
    "            print(\"model improve from {:.2} to {:.2}, saved\".format(max_accuracy, 100 * correct/total))\n",
    "            max_accuracy = 100 * correct / total\n",
    "            torch.save(model, filepath)\n",
    "\n",
    "        total_loss = 0.0\n",
    "        correct = 0.0\n",
    "        total = 0.0\n",
    "        batch_idx = 0\n",
    "        with torch.no_grad():\n",
    "            for (batch_x, batch_y) in test_pos_loader:\n",
    "                batch_x, batch_y = batch_x.to(device), batch_y.to(device)\n",
    "                outputs = model(batch_x)\n",
    "                loss = criterion(outputs, batch_y)\n",
    "\n",
    "                _, predicted = torch.max(outputs.data, 1)\n",
    "                total += batch_y.size(0)\n",
    "                correct += (predicted == batch_y).sum().item()\n",
    "                total_loss += loss\n",
    "                batch_idx += 1\n",
    "            print(\"Attack Success Rate Evaluation - Epoch: {}, Loss: {:.4}, Accuracy: {:.4}\\n\".format(epoch, total_loss / batch_idx, 100 * correct / total))\n",
    "\n"
   ]
  },
  {
   "cell_type": "code",
   "execution_count": null,
   "metadata": {},
   "outputs": [],
   "source": [
    "train_cifar10()"
   ]
  },
  {
   "cell_type": "code",
   "execution_count": 5,
   "metadata": {},
   "outputs": [],
   "source": [
    "from matplotlib import pyplot as plt\n",
    "\n",
    "def tester():\n",
    "    \n",
    "    param = {\n",
    "        \"dataset\": \"CIFAR10\",             # GTSRB, cifar10, MNIST, PubFig, ImageNet16\n",
    "        \"target_label\": 8,              # target label\n",
    "        \"poisoning_rate\": 0.02,         # ratio of poisoned samples\n",
    "        \"label_dim\": 10,\n",
    "        \"channel_list\": [1, 2],               # [0,1,2] means YUV channels, [1,2] means UV channels\n",
    "        \"magnitude\": 20,\n",
    "        \"YUV\": True,\n",
    "        \"clean_label\": False,\n",
    "        \"window_size\": 32,\n",
    "        \"pos_list\": [(31, 31), (15, 15)],\n",
    "    }\n",
    "    x_train, y_train, x_test, y_test = get_data(param)\n",
    "    #print(x_train)\n",
    "    x_test_pos = impose(x_test.copy(), y_test.copy(), param)\n",
    "    y_test_pos = np.array([param[\"target_label\"]] * x_test_pos.shape[0], dtype=np.long)\n",
    "\n",
    "    sample_img=(x_test[12]*255).astype(np.uint8)\n",
    "    sample_img_pos=(x_test_pos[12]*255).astype(np.uint8)\n",
    "    sample_img_diff=sample_img-sample_img_pos\n",
    "\n",
    "    plt.imshow(sample_img)\n",
    "    plt.show()\n",
    "    print(\"Inditify label:\")\n",
    "    print(y_test[12])\n",
    "    plt.imshow(sample_img_pos)\n",
    "    plt.show()\n",
    "    print(\"Inditify label:\")\n",
    "    print(y_test_pos[12])\n",
    "    plt.imshow(sample_img_diff)\n",
    "    plt.show()\n",
    "\n",
    "    x_test, x_test_pos =np.transpose(x_test, (0, 3, 1, 2)), np.transpose(x_test_pos, (0, 3, 1, 2))\n",
    "\n",
    "    x_test, y_test = torch.tensor(x_test, dtype=torch.float), torch.tensor(y_test, dtype=torch.long).view((-1, ))\n",
    "    x_test_pos, y_test_pos = torch.tensor(x_test_pos, dtype=torch.float), torch.tensor(y_test_pos, dtype=torch.long).view((-1, ))\n",
    "\n",
    "    test_loader = DataLoader(TensorDataset(x_test, y_test), batch_size=64, shuffle=False)\n",
    "    test_pos_loader = DataLoader(TensorDataset(x_test_pos, y_test_pos), batch_size=64, shuffle=False)\n",
    "\n",
    "    model = torch.load(\"model/cifar10.pth\")\n",
    "    criterion = nn.CrossEntropyLoss()\n",
    "\n",
    "    total_loss = 0.0\n",
    "    correct = 0.0\n",
    "    total = 0.0\n",
    "    batch_idx = 0\n",
    "    model.eval()\n",
    "    with torch.no_grad():\n",
    "        for (batch_x, batch_y) in test_loader:\n",
    "            batch_x, batch_y = batch_x.to(device), batch_y.to(device)\n",
    "            outputs = model(batch_x)\n",
    "            loss = criterion(outputs, batch_y)\n",
    "\n",
    "            _, predicted = torch.max(outputs.data, 1)\n",
    "            total += batch_y.size(0)\n",
    "            correct += (predicted == batch_y).sum().item()\n",
    "            total_loss += loss\n",
    "            batch_idx += 1\n",
    "        print(\"Benign Accuracy Evaluation - Epoch: {}, Loss: {:.4}, Accuracy: {:.4}\".format(0, total_loss / batch_idx, 100 * correct / total))\n",
    "\n",
    "    total_loss = 0.0\n",
    "    correct = 0.0\n",
    "    total = 0.0\n",
    "    batch_idx = 0\n",
    "    with torch.no_grad():\n",
    "        for (batch_x, batch_y) in test_pos_loader:\n",
    "            batch_x, batch_y = batch_x.to(device), batch_y.to(device)\n",
    "            outputs = model(batch_x)\n",
    "            loss = criterion(outputs, batch_y)\n",
    "\n",
    "            _, predicted = torch.max(outputs.data, 1)\n",
    "            total += batch_y.size(0)\n",
    "            correct += (predicted == batch_y).sum().item()\n",
    "            total_loss += loss\n",
    "            batch_idx += 1\n",
    "        print(\"Attack Success Rate Evaluation - Epoch: {}, Loss: {:.4}, Accuracy: {:.4}\\n\".format(0, total_loss / batch_idx, 100 * correct / total))"
   ]
  },
  {
   "cell_type": "code",
   "execution_count": 6,
   "metadata": {},
   "outputs": [
    {
     "name": "stderr",
     "output_type": "stream",
     "text": [
      "/tmp/ipykernel_19756/1192617156.py:20: DeprecationWarning: `np.long` is a deprecated alias for `np.compat.long`. To silence this warning, use `np.compat.long` by itself. In the likely event your code does not need to work on Python 2 you can use the builtin `int` for which `np.compat.long` is itself an alias. Doing this will not modify any behaviour and is safe. When replacing `np.long`, you may wish to use e.g. `np.int64` or `np.int32` to specify the precision. If you wish to review your current use, check the release note link for additional information.\n",
      "Deprecated in NumPy 1.20; for more details and guidance: https://numpy.org/devdocs/release/1.20.0-notes.html#deprecations\n",
      "  y_test_pos = np.array([param[\"target_label\"]] * x_test_pos.shape[0], dtype=np.long)\n"
     ]
    },
    {
     "data": {
      "image/png": "[encoded data removed]",
      "text/plain": [
       "<Figure size 640x480 with 1 Axes>"
      ]
     },
     "metadata": {},
     "output_type": "display_data"
    },
    {
     "name": "stdout",
     "output_type": "stream",
     "text": [
      "Inditify label:\n",
      "[5]\n"
     ]
    },
    {
     "data": {
      "image/png": "[encoded data removed]",
      "text/plain": [
       "<Figure size 640x480 with 1 Axes>"
      ]
     },
     "metadata": {},
     "output_type": "display_data"
    },
    {
     "name": "stdout",
     "output_type": "stream",
     "text": [
      "Inditify label:\n",
      "8\n"
     ]
    },
    {
     "data": {
      "image/png": "[encoded data removed]",
      "text/plain": [
       "<Figure size 640x480 with 1 Axes>"
      ]
     },
     "metadata": {},
     "output_type": "display_data"
    },
    {
     "ename": "FileNotFoundError",
     "evalue": "[Errno 2] No such file or directory: 'model/cifar10.pth'",
     "output_type": "error",
     "traceback": [
      "\u001b[0;31m---------------------------------------------------------------------------\u001b[0m",
      "\u001b[0;31mFileNotFoundError\u001b[0m                         Traceback (most recent call last)",
      "\u001b[1;32m/home/fustcianshan/repo/CS612_Project/main/cifar10FtrojanModelTest.ipynb 单元格 7\u001b[0m line \u001b[0;36m1\n\u001b[0;32m----> <a href='vscode-notebook-cell://wsl%2Bcs612_project/home/fustcianshan/repo/CS612_Project/main/cifar10FtrojanModelTest.ipynb#W6sdnNjb2RlLXJlbW90ZQ%3D%3D?line=0'>1</a>\u001b[0m tester()\n",
      "\u001b[1;32m/home/fustcianshan/repo/CS612_Project/main/cifar10FtrojanModelTest.ipynb 单元格 7\u001b[0m line \u001b[0;36m4\n\u001b[1;32m     <a href='vscode-notebook-cell://wsl%2Bcs612_project/home/fustcianshan/repo/CS612_Project/main/cifar10FtrojanModelTest.ipynb#W6sdnNjb2RlLXJlbW90ZQ%3D%3D?line=41'>42</a>\u001b[0m test_loader \u001b[39m=\u001b[39m DataLoader(TensorDataset(x_test, y_test), batch_size\u001b[39m=\u001b[39m\u001b[39m64\u001b[39m, shuffle\u001b[39m=\u001b[39m\u001b[39mFalse\u001b[39;00m)\n\u001b[1;32m     <a href='vscode-notebook-cell://wsl%2Bcs612_project/home/fustcianshan/repo/CS612_Project/main/cifar10FtrojanModelTest.ipynb#W6sdnNjb2RlLXJlbW90ZQ%3D%3D?line=42'>43</a>\u001b[0m test_pos_loader \u001b[39m=\u001b[39m DataLoader(TensorDataset(x_test_pos, y_test_pos), batch_size\u001b[39m=\u001b[39m\u001b[39m64\u001b[39m, shuffle\u001b[39m=\u001b[39m\u001b[39mFalse\u001b[39;00m)\n\u001b[0;32m---> <a href='vscode-notebook-cell://wsl%2Bcs612_project/home/fustcianshan/repo/CS612_Project/main/cifar10FtrojanModelTest.ipynb#W6sdnNjb2RlLXJlbW90ZQ%3D%3D?line=44'>45</a>\u001b[0m model \u001b[39m=\u001b[39m torch\u001b[39m.\u001b[39;49mload(\u001b[39m\"\u001b[39;49m\u001b[39mmodel/cifar10.pth\u001b[39;49m\u001b[39m\"\u001b[39;49m)\n\u001b[1;32m     <a href='vscode-notebook-cell://wsl%2Bcs612_project/home/fustcianshan/repo/CS612_Project/main/cifar10FtrojanModelTest.ipynb#W6sdnNjb2RlLXJlbW90ZQ%3D%3D?line=45'>46</a>\u001b[0m criterion \u001b[39m=\u001b[39m nn\u001b[39m.\u001b[39mCrossEntropyLoss()\n\u001b[1;32m     <a href='vscode-notebook-cell://wsl%2Bcs612_project/home/fustcianshan/repo/CS612_Project/main/cifar10FtrojanModelTest.ipynb#W6sdnNjb2RlLXJlbW90ZQ%3D%3D?line=47'>48</a>\u001b[0m total_loss \u001b[39m=\u001b[39m \u001b[39m0.0\u001b[39m\n",
      "File \u001b[0;32m~/.local/lib/python3.8/site-packages/torch/serialization.py:791\u001b[0m, in \u001b[0;36mload\u001b[0;34m(f, map_location, pickle_module, weights_only, **pickle_load_args)\u001b[0m\n\u001b[1;32m    788\u001b[0m \u001b[39mif\u001b[39;00m \u001b[39m'\u001b[39m\u001b[39mencoding\u001b[39m\u001b[39m'\u001b[39m \u001b[39mnot\u001b[39;00m \u001b[39min\u001b[39;00m pickle_load_args\u001b[39m.\u001b[39mkeys():\n\u001b[1;32m    789\u001b[0m     pickle_load_args[\u001b[39m'\u001b[39m\u001b[39mencoding\u001b[39m\u001b[39m'\u001b[39m] \u001b[39m=\u001b[39m \u001b[39m'\u001b[39m\u001b[39mutf-8\u001b[39m\u001b[39m'\u001b[39m\n\u001b[0;32m--> 791\u001b[0m \u001b[39mwith\u001b[39;00m _open_file_like(f, \u001b[39m'\u001b[39;49m\u001b[39mrb\u001b[39;49m\u001b[39m'\u001b[39;49m) \u001b[39mas\u001b[39;00m opened_file:\n\u001b[1;32m    792\u001b[0m     \u001b[39mif\u001b[39;00m _is_zipfile(opened_file):\n\u001b[1;32m    793\u001b[0m         \u001b[39m# The zipfile reader is going to advance the current file position.\u001b[39;00m\n\u001b[1;32m    794\u001b[0m         \u001b[39m# If we want to actually tail call to torch.jit.load, we need to\u001b[39;00m\n\u001b[1;32m    795\u001b[0m         \u001b[39m# reset back to the original position.\u001b[39;00m\n\u001b[1;32m    796\u001b[0m         orig_position \u001b[39m=\u001b[39m opened_file\u001b[39m.\u001b[39mtell()\n",
      "File \u001b[0;32m~/.local/lib/python3.8/site-packages/torch/serialization.py:271\u001b[0m, in \u001b[0;36m_open_file_like\u001b[0;34m(name_or_buffer, mode)\u001b[0m\n\u001b[1;32m    269\u001b[0m \u001b[39mdef\u001b[39;00m \u001b[39m_open_file_like\u001b[39m(name_or_buffer, mode):\n\u001b[1;32m    270\u001b[0m     \u001b[39mif\u001b[39;00m _is_path(name_or_buffer):\n\u001b[0;32m--> 271\u001b[0m         \u001b[39mreturn\u001b[39;00m _open_file(name_or_buffer, mode)\n\u001b[1;32m    272\u001b[0m     \u001b[39melse\u001b[39;00m:\n\u001b[1;32m    273\u001b[0m         \u001b[39mif\u001b[39;00m \u001b[39m'\u001b[39m\u001b[39mw\u001b[39m\u001b[39m'\u001b[39m \u001b[39min\u001b[39;00m mode:\n",
      "File \u001b[0;32m~/.local/lib/python3.8/site-packages/torch/serialization.py:252\u001b[0m, in \u001b[0;36m_open_file.__init__\u001b[0;34m(self, name, mode)\u001b[0m\n\u001b[1;32m    251\u001b[0m \u001b[39mdef\u001b[39;00m \u001b[39m__init__\u001b[39m(\u001b[39mself\u001b[39m, name, mode):\n\u001b[0;32m--> 252\u001b[0m     \u001b[39msuper\u001b[39m()\u001b[39m.\u001b[39m\u001b[39m__init__\u001b[39m(\u001b[39mopen\u001b[39;49m(name, mode))\n",
      "\u001b[0;31mFileNotFoundError\u001b[0m: [Errno 2] No such file or directory: 'model/cifar10.pth'"
     ]
    }
   ],
   "source": [
    "tester()"
   ]
  }
 ],
 "metadata": {
  "kernelspec": {
   "display_name": "Python 3",
   "language": "python",
   "name": "python3"
  },
  "language_info": {
   "codemirror_mode": {
    "name": "ipython",
    "version": 3
   },
   "file_extension": ".py",
   "mimetype": "text/x-python",
   "name": "python",
   "nbconvert_exporter": "python",
   "pygments_lexer": "ipython3",
   "version": "3.8.18"
  },
  "orig_nbformat": 4
 },
 "nbformat": 4,
 "nbformat_minor": 2
}
