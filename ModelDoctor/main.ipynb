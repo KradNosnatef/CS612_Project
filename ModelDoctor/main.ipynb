{
 "cells": [
  {
   "cell_type": "code",
   "execution_count": 1,
   "metadata": {},
   "outputs": [],
   "source": [
    "from PixelPackaged.PixelDiagMethod import PixelDiagMethod\n",
    "from ModelUsagePackaged.sample_cifar10 import getModel as getSampleCifar10Model\n",
    "from ModelUsagePackaged.sample_mnist import getModel as getSampleMNISTModel\n",
    "from ModelUsagePackaged.group5_cifar10 import ResidualBlock,cifar_model,getModel as getGp5Model\n",
    "from ModelUsagePackaged.group2_cifar10 import getModel as getGp2Model\n",
    "\n",
    "from ModelUsagePackaged.sample_cifar10 import modelEvaluate as evalSampleCifar10Model\n",
    "from ModelUsagePackaged.sample_mnist import modelEvaluate as evalSampleMNISTModel\n",
    "from ModelUsagePackaged.group5_cifar10 import modelEvaluate as evalGp5Model\n",
    "from ModelUsagePackaged.group2_cifar10 import modelEvaluate as evalGp2Model"
   ]
  },
  {
   "cell_type": "code",
   "execution_count": 2,
   "metadata": {},
   "outputs": [],
   "source": [
    "# select model to diagnose\n",
    "#modelToDiag,datasetID=getSampleMNISTModel(\"./Infected Models/model1/mnist_bd.pt\") # prof mnist model1\n",
    "#modelToDiag,datasetID=getSampleCifar10Model(\"./Infected Models/model2/cifar10_bd.pt\") # prof cifar10 model2\n",
    "#modelToDiag,datasetID=getSampleCifar10Model(\"./Infected Models/model3/cifar10_bd.pt\") # prof cifar10 model3\n",
    "#modelToDiag,datasetID=getSampleCifar10Model(\"./Infected Models/model4/cifar10_bd.pt\") # prof cifar10 model4\n",
    "#modelToDiag,datasetID=getSampleCifar10Model(\"./Infected Models/model5/cifar10_bd.pt\") # prof cifar10 model5\n",
    "#modelToDiag,datasetID=getGp2Model(\"./Infected Models/VGG19_weights.pth\") # group 2\n",
    "modelToDiag,datasetID=getGp5Model(\"./Infected Models/poisonedModel.pt\") # group 5"
   ]
  },
  {
   "cell_type": "code",
   "execution_count": 3,
   "metadata": {},
   "outputs": [
    {
     "name": "stdout",
     "output_type": "stream",
     "text": [
      "Files already downloaded and verified\n",
      "Clean Accuracy:\n",
      "0.852835476398468\n"
     ]
    }
   ],
   "source": [
    "# select model to evaluate clean accuracy\n",
    "#clean_acc = evalSampleMNISTModel(\"./Infected Models/model1/mnist_bd.pt\") # prof mnist model1\n",
    "#clean_acc = evalSampleCifar10Model(\"./Infected Models/model2/cifar10_bd.pt\") # prof cifar10 model2\n",
    "#clean_acc = evalSampleCifar10Model(\"./Infected Models/model3/cifar10_bd.pt\") # prof cifar10 model3\n",
    "#clean_acc = evalSampleCifar10Model(\"./Infected Models/model4/cifar10_bd.pt\") # prof cifar10 model4\n",
    "#clean_acc = evalSampleCifar10Model(\"./Infected Models/model5/cifar10_bd.pt\") # prof cifar10 model5\n",
    "#clean_acc = evalGp2Model(\"./Infected Models/VGG19_weights.pth\") # group 2\n",
    "clean_acc = evalGp5Model(\"./Infected Models/poisonedModel.pt\") # group 5\n",
    "print(\"Clean Accuracy:\")\n",
    "print(clean_acc.item())"
   ]
  },
  {
   "cell_type": "code",
   "execution_count": 4,
   "metadata": {},
   "outputs": [
    {
     "name": "stdout",
     "output_type": "stream",
     "text": [
      "Files already downloaded and verified\n",
      "trigger size of target 0: 24s: 45.56, ce: 0.23, reg: 13.63, reg_best: 568.94, size: 24      \u001b[2K\n",
      "target class:  0\n",
      "trigger size:   24\n",
      "Files already downloaded and verified\n",
      "Files already downloaded and verified\n",
      "success rate: 0.8967347756410257\n",
      "Files already downloaded and verified\n",
      "trigger size of target 1: 30s: 63.95, ce: 0.47, reg: 19.09, reg_best: 19.27, size: 30       \u001b[2K\n",
      "target class:  1\n",
      "trigger size:   30\n",
      "Files already downloaded and verified\n",
      "Files already downloaded and verified\n",
      "success rate: 0.8644831730769231\n",
      "Files already downloaded and verified\n",
      "trigger size of target 2: 29s: 92.41, ce: 0.72, reg: 15.01, reg_best: 403.72, size: 29      \u001b[2K\n",
      "target class:  2\n",
      "trigger size:   29\n",
      "Files already downloaded and verified\n",
      "Files already downloaded and verified\n",
      "success rate: 0.8967347756410257\n",
      "Files already downloaded and verified\n",
      "trigger size of target 3: 22s: 53.52, ce: 0.23, reg: 13.08, reg_best: 51.65, size: 22       \u001b[2K\n",
      "target class:  3\n",
      "trigger size:   22\n",
      "Files already downloaded and verified\n",
      "Files already downloaded and verified\n",
      "success rate: 0.8415464743589743\n",
      "Files already downloaded and verified\n",
      "trigger size of target 4: 36s: 81.00, ce: 0.26, reg: 19.82, reg_best: 38.70, size: 36       \u001b[2K\n",
      "target class:  4\n",
      "trigger size:   36\n",
      "Files already downloaded and verified\n",
      "Files already downloaded and verified\n",
      "success rate: 0.8481570512820513\n",
      "Files already downloaded and verified\n",
      "trigger size of target 5: 27s: 85.67, ce: 0.33, reg: 13.97, reg_best: 65.45, size: 27       \u001b[2K\n",
      "target class:  5\n",
      "trigger size:   27\n",
      "Files already downloaded and verified\n",
      "Files already downloaded and verified\n",
      "success rate: 0.9043469551282052\n",
      "Files already downloaded and verified\n",
      "trigger size of target 6: 46s: 101.76, ce: 0.70, reg: 24.82, reg_best: 26.85, size: 46      \u001b[2K\n",
      "target class:  6\n",
      "trigger size:   46\n",
      "Files already downloaded and verified\n",
      "Files already downloaded and verified\n",
      "success rate: 0.8952323717948718\n",
      "Files already downloaded and verified\n",
      "trigger size of target 7: 28s: 113.44, ce: 0.40, reg: 15.11, reg_best: 22.81, size: 28      \u001b[2K\n",
      "target class:  7\n",
      "trigger size:   28\n",
      "Files already downloaded and verified\n",
      "Files already downloaded and verified\n",
      "success rate: 0.7939703525641025\n",
      "Files already downloaded and verified\n",
      "trigger size of target 8: 11s: 95.49, ce: 0.49, reg: 5.64, reg_best: 453.23, size: 11       \u001b[2K\n",
      "target class:  8\n",
      "trigger size:   11\n",
      "Files already downloaded and verified\n",
      "Files already downloaded and verified\n",
      "success rate: 0.934395032051282\n",
      "Files already downloaded and verified\n",
      "trigger size of target 9: 37s: 54.04, ce: 0.24, reg: 19.82, reg_best: 458.92, size: 37      \u001b[2K\n",
      "target class:  9\n",
      "trigger size:   37\n",
      "Files already downloaded and verified\n",
      "Files already downloaded and verified\n",
      "success rate: 0.9225761217948718\n",
      "Files already downloaded and verified\n",
      "success rate: 0.9403044871794872\n"
     ]
    }
   ],
   "source": [
    "pixelDiagnoser=PixelDiagMethod()\n",
    "pixelResult,index,trueAsr=pixelDiagnoser.loadModel(modelToDiag,datasetID)\n"
   ]
  },
  {
   "cell_type": "code",
   "execution_count": 5,
   "metadata": {},
   "outputs": [
    {
     "name": "stderr",
     "output_type": "stream",
     "text": [
      "Clipping input data to the valid range for imshow with RGB data ([0..1] for floats or [0..255] for integers).\n"
     ]
    },
    {
     "data": {
      "image/png": "[encoded data removed]",
      "text/plain": [
       "<Figure size 640x480 with 1 Axes>"
      ]
     },
     "metadata": {},
     "output_type": "display_data"
    },
    {
     "name": "stdout",
     "output_type": "stream",
     "text": [
      "8\n",
      "0.9403044871794872\n"
     ]
    }
   ],
   "source": [
    "import matplotlib.pyplot as plt\n",
    "import torch\n",
    "\n",
    "plt.imshow(pixelResult)\n",
    "plt.show()\n",
    "print(index)\n",
    "print(trueAsr)"
   ]
  }
 ],
 "metadata": {
  "kernelspec": {
   "display_name": "Python 3",
   "language": "python",
   "name": "python3"
  },
  "language_info": {
   "codemirror_mode": {
    "name": "ipython",
    "version": 3
   },
   "file_extension": ".py",
   "mimetype": "text/x-python",
   "name": "python",
   "nbconvert_exporter": "python",
   "pygments_lexer": "ipython3",
   "version": "3.8.18"
  }
 },
 "nbformat": 4,
 "nbformat_minor": 2
}
